{
 "cells": [
  {
   "cell_type": "markdown",
   "metadata": {},
   "source": [
    "## Problem 2"
   ]
  },
  {
   "cell_type": "code",
   "execution_count": 219,
   "metadata": {},
   "outputs": [],
   "source": [
    "# X|(Y= 1) is a t-distribution with 1 degree of freedom with mean μ1\n",
    "# X|(Y= -1) is a t-distribution with 1 degree of freedom with mean 0\n",
    "# P(Y = 1) = 0.5\n",
    "\n",
    "import numpy as np\n",
    "import pandas as pd\n",
    "from sklearn.linear_model import LogisticRegression\n",
    "from sklearn.discriminant_analysis import LinearDiscriminantAnalysis\n",
    "import matplotlib.pyplot as plt\n"
   ]
  },
  {
   "cell_type": "markdown",
   "metadata": {},
   "source": [
    "### part a."
   ]
  },
  {
   "cell_type": "code",
   "execution_count": 220,
   "metadata": {},
   "outputs": [],
   "source": [
    "n = 100\n",
    "mu = 1 \n",
    "\n",
    "\n",
    "def GeneratingData(mu, n):\n",
    "    # P(Y=1) = 0.5\n",
    "    # Generating the data\n",
    "    data = np.where(np.random.binomial(1,0.5,100) == 0, -1, 1)\n",
    "    # Y = np.where(data == 0, -1, 1)\n",
    "    \n",
    "\n",
    "    # X|(Y = 1) \n",
    "    X1 = data[data==1]\n",
    "    X1t = np.random.standard_t(1, len(X1)) + mu\n",
    "\n",
    "    # X|(Y = −1)\n",
    "    X_1 = data[data==-1]\n",
    "    X_1t = np.random.standard_t(1, len(X_1))\n",
    "    # Create train data X\n",
    "    X1t = X1t.reshape(-1, 1)\n",
    "    X_1t = X_1t.reshape(-1, 1)\n",
    "\n",
    "    X = np.concatenate((X1t, X_1t))\n",
    "    Y = np.repeat([1,-1],(len(X1),len(X_1)))\n",
    "\n",
    "    return X, Y\n",
    "\n",
    "\n",
    "# GeneratingData(1, 100)\n"
   ]
  },
  {
   "cell_type": "code",
   "execution_count": 221,
   "metadata": {},
   "outputs": [],
   "source": [
    "# Train Logistic regression / LDA\n",
    "\n",
    "LRTesterror = list()\n",
    "LDATesterror = list()\n",
    "\n",
    "LR = LogisticRegression()\n",
    "LDA = LinearDiscriminantAnalysis()\n",
    "\n",
    "\n",
    "\n",
    "# LR.fit(X_train, Y_train)\n",
    "# LDA.fit(X_test, Y_test)\n",
    "\n",
    "for i in range(100):\n",
    "\n",
    "    X_train, Y_train = GeneratingData(1, 100)\n",
    "    X_test, Y_test = GeneratingData(1, 100)\n",
    "\n",
    "    LR.fit(X_train, Y_train)\n",
    "    LDA.fit(X_test, Y_test)\n",
    "\n",
    "    LRerror = sum(Y_test != LR.predict(X_test))\n",
    "    LDAerror = sum(Y_test != LDA.predict(X_test))\n",
    "    LRTesterror.append(LRerror)\n",
    "    LDATesterror.append(LDAerror)\n",
    "\n",
    "\n"
   ]
  },
  {
   "cell_type": "code",
   "execution_count": 222,
   "metadata": {},
   "outputs": [
    {
     "data": {
      "image/png": "[encoded data removed]",
      "text/plain": [
       "<Figure size 432x288 with 1 Axes>"
      ]
     },
     "metadata": {
      "needs_background": "light"
     },
     "output_type": "display_data"
    },
    {
     "name": "stdout",
     "output_type": "stream",
     "text": [
      "Logistic Regression test when u1 = 1\n",
      "Mean  : 49.28 \n",
      "Variance : 45.64159999999999\n",
      "\n",
      "\n",
      "Linear Discriminant Analysis test when u1 = 1\n",
      "Mean : 43.55\n",
      "Variance :  23.0475\n"
     ]
    }
   ],
   "source": [
    "# Plot a box-plot of the test error of logistic regression and LDA for 100 trials. \n",
    "\n",
    "fig, ax = plt.subplots()\n",
    "ax.boxplot([LDATesterror, LRTesterror])\n",
    "plt.xticks([1, 2], ['LDA test error', 'Logistic Regression test error'])\n",
    "plt.title(\"mu = 1\")\n",
    "plt.show()\n",
    "\n",
    "\n",
    "print(\"Logistic Regression test when u1 = 1\")\n",
    "print(f\"Mean  : {np.mean(LRTesterror)} \")\n",
    "print(f\"Variance : {np.var(LRTesterror)}\") \n",
    "print(\"\\n\")\n",
    "print(\"Linear Discriminant Analysis test when u1 = 1\")\n",
    "print(f\"Mean : {np.mean(LDATesterror)}\")\n",
    "print(f\"Variance :  {np.var(LDATesterror)}\")"
   ]
  },
  {
   "cell_type": "markdown",
   "metadata": {},
   "source": [
    "#### part b."
   ]
  },
  {
   "cell_type": "code",
   "execution_count": 223,
   "metadata": {},
   "outputs": [
    {
     "data": {
      "image/png": "[encoded data removed]",
      "text/plain": [
       "<Figure size 432x288 with 1 Axes>"
      ]
     },
     "metadata": {
      "needs_background": "light"
     },
     "output_type": "display_data"
    },
    {
     "name": "stdout",
     "output_type": "stream",
     "text": [
      "Logistic Regression test when u1 = 2\n",
      "Mean  : 42.71 \n",
      "Variance : 100.72589999999998\n",
      "\n",
      "\n",
      "Linear Discriminant Analysis test when u1 = 2\n",
      "Mean : 43.09\n",
      "Variance :  48.161899999999996\n"
     ]
    }
   ],
   "source": [
    "# mu = 2\n",
    "\n",
    "\n",
    "LRTesterror = list()\n",
    "LDATesterror = list()\n",
    "\n",
    "\n",
    "for i in range(100):\n",
    "\n",
    "    LR = LogisticRegression()\n",
    "    LDA = LinearDiscriminantAnalysis()\n",
    "\n",
    "\n",
    "    X_train, Y_train = GeneratingData(2, 100)\n",
    "    X_test, Y_test = GeneratingData(2, 100)\n",
    "\n",
    "    LR.fit(X_train, Y_train)\n",
    "    LDA.fit(X_test, Y_test)\n",
    "\n",
    "    LRerror = sum(Y_test != LR.predict(X_test))\n",
    "    LDAerror = sum(Y_test != LDA.predict(X_test))\n",
    "    LRTesterror.append(LRerror)\n",
    "    LDATesterror.append(LDAerror)\n",
    "\n",
    "# Plot a box-plot of the test error of logistic regression and LDA for 100 trials. \n",
    "\n",
    "fig, ax = plt.subplots()\n",
    "ax.boxplot([LDATesterror, LRTesterror])\n",
    "plt.xticks([1, 2], ['LDA test error', 'Logistic Regression test error'])\n",
    "plt.title(\"mu = 2\")\n",
    "plt.show()\n",
    "\n",
    "print(\"Logistic Regression test when u1 = 2\")\n",
    "print(f\"Mean  : {np.mean(LRTesterror)} \")\n",
    "print(f\"Variance : {np.var(LRTesterror)}\") \n",
    "print(\"\\n\")\n",
    "print(\"Linear Discriminant Analysis test when u1 = 2\")\n",
    "print(f\"Mean : {np.mean(LDATesterror)}\")\n",
    "print(f\"Variance :  {np.var(LDATesterror)}\")"
   ]
  },
  {
   "cell_type": "code",
   "execution_count": 224,
   "metadata": {},
   "outputs": [
    {
     "data": {
      "image/png": "[encoded data removed]",
      "text/plain": [
       "<Figure size 432x288 with 1 Axes>"
      ]
     },
     "metadata": {
      "needs_background": "light"
     },
     "output_type": "display_data"
    },
    {
     "name": "stdout",
     "output_type": "stream",
     "text": [
      "Logistic Regression test when u1 = 3\n",
      "Mean  : 37.79 \n",
      "Variance : 220.98590000000004\n",
      "\n",
      "\n",
      "Linear Discriminant Analysis test when u1 = 3\n",
      "Mean : 40.2\n",
      "Variance :  100.58\n"
     ]
    }
   ],
   "source": [
    "# mu = 3\n",
    "\n",
    "LRTesterror = list()\n",
    "LDATesterror = list()\n",
    "\n",
    "\n",
    "for i in range(100):\n",
    "\n",
    "    LR = LogisticRegression()\n",
    "    LDA = LinearDiscriminantAnalysis()\n",
    "\n",
    "\n",
    "    X_train, Y_train = GeneratingData(3, 100)\n",
    "    X_test, Y_test = GeneratingData(3, 100)\n",
    "\n",
    "    LR.fit(X_train, Y_train)\n",
    "    LDA.fit(X_test, Y_test)\n",
    "\n",
    "    LRerror = sum(Y_test != LR.predict(X_test))\n",
    "    LDAerror = sum(Y_test != LDA.predict(X_test))\n",
    "    LRTesterror.append(LRerror)\n",
    "    LDATesterror.append(LDAerror)\n",
    "\n",
    "fig, ax = plt.subplots()\n",
    "ax.boxplot([LDATesterror, LRTesterror])\n",
    "plt.xticks([1, 2], ['LDA test error', 'Logistic Regression test error'])\n",
    "plt.title(\"mu = 3\")\n",
    "plt.show()\n",
    "\n",
    "\n",
    "print(\"Logistic Regression test when u1 = 3\")\n",
    "print(f\"Mean  : {np.mean(LRTesterror)} \")\n",
    "print(f\"Variance : {np.var(LRTesterror)}\") \n",
    "print(\"\\n\")\n",
    "print(\"Linear Discriminant Analysis test when u1 = 3\")\n",
    "print(f\"Mean : {np.mean(LDATesterror)}\")\n",
    "print(f\"Variance :  {np.var(LDATesterror)}\")"
   ]
  },
  {
   "cell_type": "markdown",
   "metadata": {},
   "source": [
    "## Problem 3"
   ]
  },
  {
   "cell_type": "markdown",
   "metadata": {},
   "source": [
    "##### (a) Sketch the observations"
   ]
  },
  {
   "cell_type": "code",
   "execution_count": 225,
   "metadata": {},
   "outputs": [
    {
     "data": {
      "image/png": "[encoded data removed]",
      "text/plain": [
       "<Figure size 432x288 with 1 Axes>"
      ]
     },
     "metadata": {
      "needs_background": "light"
     },
     "output_type": "display_data"
    }
   ],
   "source": [
    "x1 = np.array([3,2,4,1,2,4,4])\n",
    "x2 = np.array([4,2,4,4,1,3,1])\n",
    "cols = np.array([\"red\", \"red\", \"red\", \"red\", \"blue\", \"blue\", \"blue\"])\n",
    "\n",
    "plt.scatter(x1, x2, color = cols)\n",
    "plt.show();"
   ]
  },
  {
   "cell_type": "markdown",
   "metadata": {},
   "source": [
    "#### (b) Sketch the optimal separating hyperplane, and provide the equation for this hyperplane (of the form (9.1))"
   ]
  },
  {
   "cell_type": "markdown",
   "metadata": {},
   "source": [
    "We can point out two coordinates that should fit the optimal separating hyperplane. The first point should be in between the coordinate (2, 2) and the coordinate (2, 1), and the second point should be in between (4, 4) and (4, 3). Thus, the line should fit in (2, 1.5) and (4, 3.5). \n",
    "\n",
    "The equation is : $Y = X - 0.5$"
   ]
  },
  {
   "cell_type": "code",
   "execution_count": 226,
   "metadata": {},
   "outputs": [
    {
     "data": {
      "image/png": "[encoded data removed]",
      "text/plain": [
       "<Figure size 432x288 with 1 Axes>"
      ]
     },
     "metadata": {
      "needs_background": "light"
     },
     "output_type": "display_data"
    }
   ],
   "source": [
    "X = np.concatenate((x1, x2))\n",
    "Y = X - 0.5\n",
    "\n",
    "plt.scatter(x1, x2, color = cols)\n",
    "plt.plot(X, Y, '-g')\n",
    "\n",
    "plt.show();\n"
   ]
  },
  {
   "cell_type": "markdown",
   "metadata": {},
   "source": [
    "#### (c) Describe the classification rule for the maximal margin classifier. It should be something along the lines of “Classify to Red if β0 + β1X1 + β2X2 > 0, and classify to Blue otherwise.” Provide the values for β0, β1, and β2."
   ]
  },
  {
   "cell_type": "markdown",
   "metadata": {},
   "source": [
    "Classify to Red if β0 + β1X1 + β2X2 > 0, and classify to Blue otherwise, where β0 = 0.5, β1 = -1, β2 = 1. "
   ]
  },
  {
   "cell_type": "markdown",
   "metadata": {},
   "source": [
    "#### (d) On your sketch, indicate the margin for the maximal margin hyperplane."
   ]
  },
  {
   "cell_type": "code",
   "execution_count": 227,
   "metadata": {},
   "outputs": [
    {
     "data": {
      "image/png": "[encoded data removed]",
      "text/plain": [
       "<Figure size 432x288 with 1 Axes>"
      ]
     },
     "metadata": {
      "needs_background": "light"
     },
     "output_type": "display_data"
    }
   ],
   "source": [
    "X = np.concatenate((x1, x2))\n",
    "Y = X - 0.5\n",
    "Yred = X \n",
    "Yblue = X - 1\n",
    "\n",
    "plt.scatter(x1, x2, color = cols)\n",
    "plt.plot(X, Y, '-g')\n",
    "plt.plot(X, Yred, ':')\n",
    "plt.plot(X, Yblue, ':')\n",
    "plt.show();"
   ]
  },
  {
   "cell_type": "markdown",
   "metadata": {},
   "source": [
    "Here, the maximal margin hyperplane are the blue line and the orange line. "
   ]
  },
  {
   "cell_type": "markdown",
   "metadata": {},
   "source": [
    "#### (e) Indicate the support vectors for the maximal margin classifier"
   ]
  },
  {
   "cell_type": "markdown",
   "metadata": {},
   "source": [
    "The support vectors are the points (2,2), (4,4), (2,1) and (4,3)."
   ]
  },
  {
   "cell_type": "markdown",
   "metadata": {},
   "source": [
    "#### (f) Argue that a slight movement of the seventh observation would not affect the maximal margin hyperplane"
   ]
  },
  {
   "cell_type": "markdown",
   "metadata": {},
   "source": [
    "Since the seventh observation is (4,1), it should go beyond the orange line on the above graph to affect the maximal margin hyperplane. Otherwise, just a slight movement would not affect the maximal margin hyperplane. "
   ]
  },
  {
   "cell_type": "markdown",
   "metadata": {},
   "source": [
    "#### (g) Sketch a hyper plane that is not the optimal separating hyper- plane, and provide the equation for this hyper plane."
   ]
  },
  {
   "cell_type": "code",
   "execution_count": 228,
   "metadata": {},
   "outputs": [
    {
     "data": {
      "image/png": "[encoded data removed]",
      "text/plain": [
       "<Figure size 432x288 with 1 Axes>"
      ]
     },
     "metadata": {
      "needs_background": "light"
     },
     "output_type": "display_data"
    }
   ],
   "source": [
    "X = np.concatenate((x1, x2))\n",
    "Y = X - 0.5\n",
    "Y_ = 1.25*X - 1.25\n",
    "\n",
    "plt.scatter(x1, x2, color = cols)\n",
    "plt.plot(X, Y, '--', color='green')\n",
    "plt.plot(X, Y_, '--', color='black')\n",
    "\n",
    "plt.show();\n"
   ]
  },
  {
   "cell_type": "markdown",
   "metadata": {},
   "source": [
    "#### (h) Draw an additional observation on the plot so that the two classes are no longer separable by a hyperplane."
   ]
  }
 ],
 "metadata": {
  "interpreter": {
   "hash": "7321a5fba119b77a6c5257a79a997d666438dc55056a68a660698298aae01e26"
  },
  "kernelspec": {
   "display_name": "Python 3.8.5 ('base')",
   "language": "python",
   "name": "python3"
  },
  "language_info": {
   "codemirror_mode": {
    "name": "ipython",
    "version": 3
   },
   "file_extension": ".py",
   "mimetype": "text/x-python",
   "name": "python",
   "nbconvert_exporter": "python",
   "pygments_lexer": "ipython3",
   "version": "3.8.5"
  },
  "orig_nbformat": 4
 },
 "nbformat": 4,
 "nbformat_minor": 2
}
